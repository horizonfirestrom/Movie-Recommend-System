{
 "cells": [
  {
   "cell_type": "code",
   "execution_count": 2,
   "metadata": {
    "id": "gZhqxpznOZWS"
   },
   "outputs": [],
   "source": [
    "import pandas as pd\n",
    "import numpy as np\n",
    "import requests\n",
    "import bs4 as bs\n",
    "import urllib.request\n",
    "\n",
    "import ssl\n",
    "from urllib.error import URLError\n",
    "from bs4 import BeautifulSoup as bs"
   ]
  },
  {
   "cell_type": "markdown",
   "metadata": {
    "id": "xhXPbpjhOZWT"
   },
   "source": [
    "## Extracting features of 2023 movies from Wikipedia"
   ]
  },
  {
   "cell_type": "code",
   "execution_count": 3,
   "metadata": {
    "id": "1o9WJASWOZWT"
   },
   "outputs": [],
   "source": [
    "link = \"https://en.wikipedia.org/wiki/List_of_American_films_of_2023\""
   ]
  },
  {
   "cell_type": "code",
   "execution_count": 4,
   "metadata": {},
   "outputs": [],
   "source": [
    "#to disable SSL certificate\n",
    "\n",
    "\n",
    "# Disable SSL certificate verification\n",
    "context = ssl._create_unverified_context()\n",
    "\n",
    "try:\n",
    "    link = 'https://en.wikipedia.org/wiki/List_of_American_films_of_2023'\n",
    "    source = urllib.request.urlopen(link, context=context).read()\n",
    "    soup = bs(source, 'lxml')\n",
    "    # Process the BeautifulSoup object (soup) as needed\n",
    "except URLError as e:\n",
    "    print(\"URLError:\", e)\n"
   ]
  },
  {
   "cell_type": "code",
   "execution_count": 5,
   "metadata": {
    "id": "LFytQ2MaOZWT"
   },
   "outputs": [],
   "source": [
    "tables = soup.find_all('table',class_='wikitable sortable')"
   ]
  },
  {
   "cell_type": "code",
   "execution_count": 6,
   "metadata": {
    "colab": {
     "base_uri": "https://localhost:8080/"
    },
    "id": "CdSLuBzGOZWT",
    "outputId": "a59c27fc-00d2-4acd-e5c8-3dd746d78baa"
   },
   "outputs": [
    {
     "data": {
      "text/plain": [
       "4"
      ]
     },
     "execution_count": 6,
     "metadata": {},
     "output_type": "execute_result"
    }
   ],
   "source": [
    "len(tables)"
   ]
  },
  {
   "cell_type": "code",
   "execution_count": 7,
   "metadata": {
    "colab": {
     "base_uri": "https://localhost:8080/"
    },
    "id": "VoX7c9O-OZWU",
    "outputId": "78637bfa-e750-4c01-df0a-c791c80097b3"
   },
   "outputs": [
    {
     "data": {
      "text/plain": [
       "bs4.element.Tag"
      ]
     },
     "execution_count": 7,
     "metadata": {},
     "output_type": "execute_result"
    }
   ],
   "source": [
    "type(tables[0])"
   ]
  },
  {
   "cell_type": "code",
   "execution_count": 8,
   "metadata": {
    "id": "1y2cECOMOZWU"
   },
   "outputs": [],
   "source": [
    "df1 = pd.read_html(str(tables[0]))[0]\n",
    "df2 = pd.read_html(str(tables[1]))[0]\n",
    "df3 = pd.read_html(str(tables[2]))[0]\n",
    "df4 = pd.read_html(str(tables[3]).replace(\"'1\\\"\\'\",'\"1\"'))[0] # avoided \"ValueError: invalid literal for int() with base 10: '1\"'"
   ]
  },
  {
   "cell_type": "code",
   "execution_count": 9,
   "metadata": {},
   "outputs": [],
   "source": [
    "dfs = [df1, df2, df3, df4]"
   ]
  },
  {
   "cell_type": "code",
   "execution_count": 10,
   "metadata": {
    "id": "t4MN1gZbOZWU"
   },
   "outputs": [],
   "source": [
    "df = pd.concat(dfs, ignore_index=True)"
   ]
  },
  {
   "cell_type": "code",
   "execution_count": 11,
   "metadata": {
    "colab": {
     "base_uri": "https://localhost:8080/",
     "height": 406
    },
    "id": "4CCunB-rOZWU",
    "outputId": "a4d69bcd-088c-4655-a445-e8ebafdb10e6"
   },
   "outputs": [
    {
     "data": {
      "text/html": [
       "<div>\n",
       "<style scoped>\n",
       "    .dataframe tbody tr th:only-of-type {\n",
       "        vertical-align: middle;\n",
       "    }\n",
       "\n",
       "    .dataframe tbody tr th {\n",
       "        vertical-align: top;\n",
       "    }\n",
       "\n",
       "    .dataframe thead th {\n",
       "        text-align: right;\n",
       "    }\n",
       "</style>\n",
       "<table border=\"1\" class=\"dataframe\">\n",
       "  <thead>\n",
       "    <tr style=\"text-align: right;\">\n",
       "      <th></th>\n",
       "      <th>Opening</th>\n",
       "      <th>Opening.1</th>\n",
       "      <th>Title</th>\n",
       "      <th>Production company</th>\n",
       "      <th>Cast and crew</th>\n",
       "      <th>Ref.</th>\n",
       "    </tr>\n",
       "  </thead>\n",
       "  <tbody>\n",
       "    <tr>\n",
       "      <th>0</th>\n",
       "      <td>J A N U A R Y</td>\n",
       "      <td>6</td>\n",
       "      <td>M3GAN</td>\n",
       "      <td>Universal Pictures / Blumhouse Productions / A...</td>\n",
       "      <td>Gerard Johnstone (director); Akela Cooper (scr...</td>\n",
       "      <td>[3]</td>\n",
       "    </tr>\n",
       "    <tr>\n",
       "      <th>1</th>\n",
       "      <td>J A N U A R Y</td>\n",
       "      <td>6</td>\n",
       "      <td>The Old Way</td>\n",
       "      <td>Saban Films / Saturn Films</td>\n",
       "      <td>Brett Donowho (director); Carl W. Lucas (scree...</td>\n",
       "      <td>[4]</td>\n",
       "    </tr>\n",
       "    <tr>\n",
       "      <th>2</th>\n",
       "      <td>J A N U A R Y</td>\n",
       "      <td>11</td>\n",
       "      <td>The Devil Conspiracy</td>\n",
       "      <td>Samuel Goldwyn Films</td>\n",
       "      <td>Nathan Frankowski (director); Ed Alan (screenp...</td>\n",
       "      <td>[5]</td>\n",
       "    </tr>\n",
       "    <tr>\n",
       "      <th>3</th>\n",
       "      <td>J A N U A R Y</td>\n",
       "      <td>13</td>\n",
       "      <td>Plane</td>\n",
       "      <td>Lionsgate / MadRiver Pictures / Di Bonaventura...</td>\n",
       "      <td>Jean-François Richet (director); Charles Cummi...</td>\n",
       "      <td>[6]</td>\n",
       "    </tr>\n",
       "    <tr>\n",
       "      <th>4</th>\n",
       "      <td>J A N U A R Y</td>\n",
       "      <td>13</td>\n",
       "      <td>House Party</td>\n",
       "      <td>Warner Bros. Pictures / New Line Cinema</td>\n",
       "      <td>Calmatic (director); Jamal Olori, Stephen Glov...</td>\n",
       "      <td>[7]</td>\n",
       "    </tr>\n",
       "    <tr>\n",
       "      <th>...</th>\n",
       "      <td>...</td>\n",
       "      <td>...</td>\n",
       "      <td>...</td>\n",
       "      <td>...</td>\n",
       "      <td>...</td>\n",
       "      <td>...</td>\n",
       "    </tr>\n",
       "    <tr>\n",
       "      <th>324</th>\n",
       "      <td>D E C E M B E R</td>\n",
       "      <td>22</td>\n",
       "      <td>Memory</td>\n",
       "      <td>Ketchup Entertainment / Mubi</td>\n",
       "      <td>Michel Franco (director/screenplay); Jessica C...</td>\n",
       "      <td>[311]</td>\n",
       "    </tr>\n",
       "    <tr>\n",
       "      <th>325</th>\n",
       "      <td>D E C E M B E R</td>\n",
       "      <td>25</td>\n",
       "      <td>The Color Purple</td>\n",
       "      <td>Warner Bros. Pictures / Harpo Films / Amblin E...</td>\n",
       "      <td>Blitz Bazawule (director), Marcus Gardley (scr...</td>\n",
       "      <td>[312]</td>\n",
       "    </tr>\n",
       "    <tr>\n",
       "      <th>326</th>\n",
       "      <td>D E C E M B E R</td>\n",
       "      <td>25</td>\n",
       "      <td>The Boys in the Boat</td>\n",
       "      <td>Metro-Goldwyn-Mayer / Smokehouse Pictures</td>\n",
       "      <td>George Clooney (director), Mark L. Smith (scre...</td>\n",
       "      <td>[313]</td>\n",
       "    </tr>\n",
       "    <tr>\n",
       "      <th>327</th>\n",
       "      <td>D E C E M B E R</td>\n",
       "      <td>25</td>\n",
       "      <td>Ferrari</td>\n",
       "      <td>Neon / STXfilms</td>\n",
       "      <td>Michael Mann (director), Troy Kennedy Martin (...</td>\n",
       "      <td>[314]</td>\n",
       "    </tr>\n",
       "    <tr>\n",
       "      <th>328</th>\n",
       "      <td>D E C E M B E R</td>\n",
       "      <td>29</td>\n",
       "      <td>Good Grief</td>\n",
       "      <td>Netflix</td>\n",
       "      <td>Dan Levy (director/screenplay); Dan Levy, Ruth...</td>\n",
       "      <td>[315]</td>\n",
       "    </tr>\n",
       "  </tbody>\n",
       "</table>\n",
       "<p>329 rows × 6 columns</p>\n",
       "</div>"
      ],
      "text/plain": [
       "             Opening  Opening.1                 Title  \\\n",
       "0      J A N U A R Y          6                 M3GAN   \n",
       "1      J A N U A R Y          6           The Old Way   \n",
       "2      J A N U A R Y         11  The Devil Conspiracy   \n",
       "3      J A N U A R Y         13                 Plane   \n",
       "4      J A N U A R Y         13           House Party   \n",
       "..               ...        ...                   ...   \n",
       "324  D E C E M B E R         22                Memory   \n",
       "325  D E C E M B E R         25      The Color Purple   \n",
       "326  D E C E M B E R         25  The Boys in the Boat   \n",
       "327  D E C E M B E R         25               Ferrari   \n",
       "328  D E C E M B E R         29            Good Grief   \n",
       "\n",
       "                                    Production company  \\\n",
       "0    Universal Pictures / Blumhouse Productions / A...   \n",
       "1                           Saban Films / Saturn Films   \n",
       "2                                 Samuel Goldwyn Films   \n",
       "3    Lionsgate / MadRiver Pictures / Di Bonaventura...   \n",
       "4              Warner Bros. Pictures / New Line Cinema   \n",
       "..                                                 ...   \n",
       "324                       Ketchup Entertainment / Mubi   \n",
       "325  Warner Bros. Pictures / Harpo Films / Amblin E...   \n",
       "326          Metro-Goldwyn-Mayer / Smokehouse Pictures   \n",
       "327                                    Neon / STXfilms   \n",
       "328                                            Netflix   \n",
       "\n",
       "                                         Cast and crew   Ref.  \n",
       "0    Gerard Johnstone (director); Akela Cooper (scr...    [3]  \n",
       "1    Brett Donowho (director); Carl W. Lucas (scree...    [4]  \n",
       "2    Nathan Frankowski (director); Ed Alan (screenp...    [5]  \n",
       "3    Jean-François Richet (director); Charles Cummi...    [6]  \n",
       "4    Calmatic (director); Jamal Olori, Stephen Glov...    [7]  \n",
       "..                                                 ...    ...  \n",
       "324  Michel Franco (director/screenplay); Jessica C...  [311]  \n",
       "325  Blitz Bazawule (director), Marcus Gardley (scr...  [312]  \n",
       "326  George Clooney (director), Mark L. Smith (scre...  [313]  \n",
       "327  Michael Mann (director), Troy Kennedy Martin (...  [314]  \n",
       "328  Dan Levy (director/screenplay); Dan Levy, Ruth...  [315]  \n",
       "\n",
       "[329 rows x 6 columns]"
      ]
     },
     "execution_count": 11,
     "metadata": {},
     "output_type": "execute_result"
    }
   ],
   "source": [
    "df"
   ]
  },
  {
   "cell_type": "code",
   "execution_count": 12,
   "metadata": {
    "id": "9enI6QkuOZWV"
   },
   "outputs": [],
   "source": [
    "df_2023 = df[['Title','Cast and crew']]"
   ]
  },
  {
   "cell_type": "code",
   "execution_count": 13,
   "metadata": {
    "colab": {
     "base_uri": "https://localhost:8080/",
     "height": 406
    },
    "id": "RT0jPJQQOZWV",
    "outputId": "2d6ab58f-996f-4099-e7bb-3e29abadf43c"
   },
   "outputs": [
    {
     "ename": "NameError",
     "evalue": "name 'df_2020' is not defined",
     "output_type": "error",
     "traceback": [
      "\u001b[1;31m---------------------------------------------------------------------------\u001b[0m",
      "\u001b[1;31mNameError\u001b[0m                                 Traceback (most recent call last)",
      "Cell \u001b[1;32mIn[13], line 1\u001b[0m\n\u001b[1;32m----> 1\u001b[0m df_2020\n",
      "\u001b[1;31mNameError\u001b[0m: name 'df_2020' is not defined"
     ]
    }
   ],
   "source": [
    "df_2020"
   ]
  },
  {
   "cell_type": "code",
   "execution_count": 14,
   "metadata": {
    "colab": {
     "base_uri": "https://localhost:8080/"
    },
    "id": "KYTIVryiOkeW",
    "outputId": "629f16ee-2aa7-4b7f-8393-09afdefef5d5"
   },
   "outputs": [
    {
     "name": "stdout",
     "output_type": "stream",
     "text": [
      "Requirement already satisfied: tmdbv3api in c:\\users\\horizon\\anaconda3\\lib\\site-packages (1.9.0)\n",
      "Requirement already satisfied: requests in c:\\users\\horizon\\anaconda3\\lib\\site-packages (from tmdbv3api) (2.31.0)\n",
      "Requirement already satisfied: charset-normalizer<4,>=2 in c:\\users\\horizon\\anaconda3\\lib\\site-packages (from requests->tmdbv3api) (2.0.4)\n",
      "Requirement already satisfied: idna<4,>=2.5 in c:\\users\\horizon\\anaconda3\\lib\\site-packages (from requests->tmdbv3api) (3.4)\n",
      "Requirement already satisfied: urllib3<3,>=1.21.1 in c:\\users\\horizon\\anaconda3\\lib\\site-packages (from requests->tmdbv3api) (1.26.16)\n",
      "Requirement already satisfied: certifi>=2017.4.17 in c:\\users\\horizon\\anaconda3\\lib\\site-packages (from requests->tmdbv3api) (2023.7.22)\n"
     ]
    }
   ],
   "source": [
    "!pip install tmdbv3api"
   ]
  },
  {
   "cell_type": "code",
   "execution_count": 15,
   "metadata": {
    "id": "61XvcEzPOZWV"
   },
   "outputs": [],
   "source": [
    "from tmdbv3api import TMDb\n",
    "import json\n",
    "import requests\n",
    "tmdb = TMDb()\n",
    "tmdb.api_key = 'b1839aa17a5fded5e7a15224d03be724'"
   ]
  },
  {
   "cell_type": "code",
   "execution_count": 16,
   "metadata": {
    "id": "_4q66M86OfgF"
   },
   "outputs": [],
   "source": [
    "from tmdbv3api import Movie\n",
    "tmdb_movie = Movie() \n",
    "def get_genre(x):\n",
    "    genres = []\n",
    "    result = tmdb_movie.search(x)\n",
    "    if not result:\n",
    "      return np.NaN\n",
    "    else:\n",
    "      movie_id = result[0].id\n",
    "      response = requests.get('https://api.themoviedb.org/3/movie/{}?api_key={}'.format(movie_id,tmdb.api_key))\n",
    "      data_json = response.json()\n",
    "      if data_json['genres']:\n",
    "          genre_str = \" \" \n",
    "          for i in range(0,len(data_json['genres'])):\n",
    "              genres.append(data_json['genres'][i]['name'])\n",
    "          return genre_str.join(genres)\n",
    "      else:\n",
    "          return np.NaN"
   ]
  },
  {
   "cell_type": "code",
   "execution_count": 17,
   "metadata": {
    "colab": {
     "base_uri": "https://localhost:8080/"
    },
    "id": "uSjX4AsmOZWV",
    "outputId": "da21d28b-1f7a-4171-8b87-2eabcc897a8d",
    "scrolled": true
   },
   "outputs": [
    {
     "name": "stderr",
     "output_type": "stream",
     "text": [
      "C:\\Users\\Horizon\\AppData\\Local\\Temp\\ipykernel_7000\\2917389152.py:1: SettingWithCopyWarning: \n",
      "A value is trying to be set on a copy of a slice from a DataFrame.\n",
      "Try using .loc[row_indexer,col_indexer] = value instead\n",
      "\n",
      "See the caveats in the documentation: https://pandas.pydata.org/pandas-docs/stable/user_guide/indexing.html#returning-a-view-versus-a-copy\n",
      "  df_2023['genres'] = df_2023['Title'].map(lambda x: get_genre(str(x)))\n"
     ]
    }
   ],
   "source": [
    "df_2023['genres'] = df_2023['Title'].map(lambda x: get_genre(str(x)))"
   ]
  },
  {
   "cell_type": "code",
   "execution_count": 68,
   "metadata": {
    "colab": {
     "base_uri": "https://localhost:8080/",
     "height": 406
    },
    "id": "aiwOqJZMOZWV",
    "outputId": "032dfad5-985e-4d24-9fed-ed92c9edfba3"
   },
   "outputs": [
    {
     "data": {
      "text/html": [
       "<div>\n",
       "<style scoped>\n",
       "    .dataframe tbody tr th:only-of-type {\n",
       "        vertical-align: middle;\n",
       "    }\n",
       "\n",
       "    .dataframe tbody tr th {\n",
       "        vertical-align: top;\n",
       "    }\n",
       "\n",
       "    .dataframe thead th {\n",
       "        text-align: right;\n",
       "    }\n",
       "</style>\n",
       "<table border=\"1\" class=\"dataframe\">\n",
       "  <thead>\n",
       "    <tr style=\"text-align: right;\">\n",
       "      <th></th>\n",
       "      <th>Title</th>\n",
       "      <th>Cast and crew</th>\n",
       "      <th>genres</th>\n",
       "    </tr>\n",
       "  </thead>\n",
       "  <tbody>\n",
       "    <tr>\n",
       "      <th>0</th>\n",
       "      <td>M3GAN</td>\n",
       "      <td>Gerard Johnstone (director); Akela Cooper (scr...</td>\n",
       "      <td>Science Fiction Horror</td>\n",
       "    </tr>\n",
       "    <tr>\n",
       "      <th>1</th>\n",
       "      <td>The Old Way</td>\n",
       "      <td>Brett Donowho (director); Carl W. Lucas (scree...</td>\n",
       "      <td>Western</td>\n",
       "    </tr>\n",
       "    <tr>\n",
       "      <th>2</th>\n",
       "      <td>The Devil Conspiracy</td>\n",
       "      <td>Nathan Frankowski (director); Ed Alan (screenp...</td>\n",
       "      <td>Horror Fantasy Science Fiction Thriller</td>\n",
       "    </tr>\n",
       "    <tr>\n",
       "      <th>3</th>\n",
       "      <td>Plane</td>\n",
       "      <td>Jean-François Richet (director); Charles Cummi...</td>\n",
       "      <td>Action Adventure Thriller</td>\n",
       "    </tr>\n",
       "    <tr>\n",
       "      <th>4</th>\n",
       "      <td>House Party</td>\n",
       "      <td>Calmatic (director); Jamal Olori, Stephen Glov...</td>\n",
       "      <td>Comedy</td>\n",
       "    </tr>\n",
       "    <tr>\n",
       "      <th>...</th>\n",
       "      <td>...</td>\n",
       "      <td>...</td>\n",
       "      <td>...</td>\n",
       "    </tr>\n",
       "    <tr>\n",
       "      <th>322</th>\n",
       "      <td>The Iron Claw</td>\n",
       "      <td>Sean Durkin (director/screenplay); Zac Efron, ...</td>\n",
       "      <td>Drama</td>\n",
       "    </tr>\n",
       "    <tr>\n",
       "      <th>323</th>\n",
       "      <td>Memory</td>\n",
       "      <td>Michel Franco (director/screenplay); Jessica C...</td>\n",
       "      <td>Action Thriller Crime</td>\n",
       "    </tr>\n",
       "    <tr>\n",
       "      <th>324</th>\n",
       "      <td>The Color Purple</td>\n",
       "      <td>Blitz Bazawule (director), Marcus Gardley (scr...</td>\n",
       "      <td>Drama</td>\n",
       "    </tr>\n",
       "    <tr>\n",
       "      <th>325</th>\n",
       "      <td>The Boys in the Boat</td>\n",
       "      <td>George Clooney (director), Mark L. Smith (scre...</td>\n",
       "      <td>Drama History</td>\n",
       "    </tr>\n",
       "    <tr>\n",
       "      <th>326</th>\n",
       "      <td>Ferrari</td>\n",
       "      <td>Michael Mann (director), Troy Kennedy Martin (...</td>\n",
       "      <td>Drama History</td>\n",
       "    </tr>\n",
       "  </tbody>\n",
       "</table>\n",
       "<p>327 rows × 3 columns</p>\n",
       "</div>"
      ],
      "text/plain": [
       "                    Title                                      Cast and crew  \\\n",
       "0                   M3GAN  Gerard Johnstone (director); Akela Cooper (scr...   \n",
       "1             The Old Way  Brett Donowho (director); Carl W. Lucas (scree...   \n",
       "2    The Devil Conspiracy  Nathan Frankowski (director); Ed Alan (screenp...   \n",
       "3                   Plane  Jean-François Richet (director); Charles Cummi...   \n",
       "4             House Party  Calmatic (director); Jamal Olori, Stephen Glov...   \n",
       "..                    ...                                                ...   \n",
       "322         The Iron Claw  Sean Durkin (director/screenplay); Zac Efron, ...   \n",
       "323                Memory  Michel Franco (director/screenplay); Jessica C...   \n",
       "324      The Color Purple  Blitz Bazawule (director), Marcus Gardley (scr...   \n",
       "325  The Boys in the Boat  George Clooney (director), Mark L. Smith (scre...   \n",
       "326               Ferrari  Michael Mann (director), Troy Kennedy Martin (...   \n",
       "\n",
       "                                      genres  \n",
       "0                     Science Fiction Horror  \n",
       "1                                    Western  \n",
       "2    Horror Fantasy Science Fiction Thriller  \n",
       "3                  Action Adventure Thriller  \n",
       "4                                     Comedy  \n",
       "..                                       ...  \n",
       "322                                    Drama  \n",
       "323                    Action Thriller Crime  \n",
       "324                                    Drama  \n",
       "325                            Drama History  \n",
       "326                            Drama History  \n",
       "\n",
       "[327 rows x 3 columns]"
      ]
     },
     "execution_count": 68,
     "metadata": {},
     "output_type": "execute_result"
    }
   ],
   "source": [
    "df_2023"
   ]
  },
  {
   "cell_type": "code",
   "execution_count": 69,
   "metadata": {
    "id": "GcqUuFyiOZWW"
   },
   "outputs": [],
   "source": [
    "def get_director(x):\n",
    "    if \" (director)\" in x:\n",
    "        return x.split(\" (director)\")[0]\n",
    "    elif \" (directors)\" in x:\n",
    "        return x.split(\" (directors)\")[0]\n",
    "    else:\n",
    "        return x.split(\" (director/screenplay)\")[0]"
   ]
  },
  {
   "cell_type": "code",
   "execution_count": 71,
   "metadata": {
    "colab": {
     "base_uri": "https://localhost:8080/"
    },
    "id": "A7RzXkBQOZWW",
    "outputId": "161deb48-6037-468b-c4b4-44cd51d0efc1"
   },
   "outputs": [
    {
     "name": "stderr",
     "output_type": "stream",
     "text": [
      "C:\\Users\\Horizon\\AppData\\Local\\Temp\\ipykernel_7572\\1289979380.py:1: SettingWithCopyWarning: \n",
      "A value is trying to be set on a copy of a slice from a DataFrame.\n",
      "Try using .loc[row_indexer,col_indexer] = value instead\n",
      "\n",
      "See the caveats in the documentation: https://pandas.pydata.org/pandas-docs/stable/user_guide/indexing.html#returning-a-view-versus-a-copy\n",
      "  df_2023['director_name'] = df_2020['Cast and crew'].map(lambda x: get_director(str(x)))\n"
     ]
    }
   ],
   "source": [
    "df_2023['director_name'] = df_2020['Cast and crew'].map(lambda x: get_director(str(x)))"
   ]
  },
  {
   "cell_type": "code",
   "execution_count": 72,
   "metadata": {
    "id": "wwBWFgBSOZWW"
   },
   "outputs": [],
   "source": [
    "def get_actor1(x):\n",
    "    return ((x.split(\"screenplay); \")[-1]).split(\", \")[0])"
   ]
  },
  {
   "cell_type": "code",
   "execution_count": 73,
   "metadata": {
    "colab": {
     "base_uri": "https://localhost:8080/"
    },
    "id": "gxr9Y4IJOZWW",
    "outputId": "68904c09-7d50-424d-e908-804489e84d05"
   },
   "outputs": [
    {
     "name": "stderr",
     "output_type": "stream",
     "text": [
      "C:\\Users\\Horizon\\AppData\\Local\\Temp\\ipykernel_7572\\1787722408.py:1: SettingWithCopyWarning: \n",
      "A value is trying to be set on a copy of a slice from a DataFrame.\n",
      "Try using .loc[row_indexer,col_indexer] = value instead\n",
      "\n",
      "See the caveats in the documentation: https://pandas.pydata.org/pandas-docs/stable/user_guide/indexing.html#returning-a-view-versus-a-copy\n",
      "  df_2023['actor_1_name'] = df_2020['Cast and crew'].map(lambda x: get_actor1(str(x)))\n"
     ]
    }
   ],
   "source": [
    "df_2023['actor_1_name'] = df_2020['Cast and crew'].map(lambda x: get_actor1(str(x)))"
   ]
  },
  {
   "cell_type": "code",
   "execution_count": 74,
   "metadata": {
    "id": "Qc7I49gVOZWX"
   },
   "outputs": [],
   "source": [
    "def get_actor2(x):\n",
    "    if len((x.split(\"screenplay); \")[-1]).split(\", \")) < 2:\n",
    "        return np.NaN\n",
    "    else:\n",
    "        return ((x.split(\"screenplay); \")[-1]).split(\", \")[1])"
   ]
  },
  {
   "cell_type": "code",
   "execution_count": 75,
   "metadata": {
    "id": "ipspWbjaOZWX"
   },
   "outputs": [],
   "source": [
    "df_2023['actor_2_name'] = df_2020['Cast and crew'].map(lambda x: get_actor2(str(x)))"
   ]
  },
  {
   "cell_type": "code",
   "execution_count": 76,
   "metadata": {
    "id": "pQmab5aiOZWX"
   },
   "outputs": [],
   "source": [
    "def get_actor3(x):\n",
    "    if len((x.split(\"screenplay); \")[-1]).split(\", \")) < 3:\n",
    "        return np.NaN\n",
    "    else:\n",
    "        return ((x.split(\"screenplay); \")[-1]).split(\", \")[2])"
   ]
  },
  {
   "cell_type": "code",
   "execution_count": 78,
   "metadata": {
    "id": "vWSs45LWOZWX"
   },
   "outputs": [],
   "source": [
    "df_2023['actor_3_name'] = df_2023['Cast and crew'].map(lambda x: get_actor3(str(x)))"
   ]
  },
  {
   "cell_type": "code",
   "execution_count": 79,
   "metadata": {
    "colab": {
     "base_uri": "https://localhost:8080/",
     "height": 406
    },
    "id": "2xDIRn7DOZWX",
    "outputId": "ad8d83b3-a608-43db-eeff-53a434ab3d4f"
   },
   "outputs": [
    {
     "data": {
      "text/html": [
       "<div>\n",
       "<style scoped>\n",
       "    .dataframe tbody tr th:only-of-type {\n",
       "        vertical-align: middle;\n",
       "    }\n",
       "\n",
       "    .dataframe tbody tr th {\n",
       "        vertical-align: top;\n",
       "    }\n",
       "\n",
       "    .dataframe thead th {\n",
       "        text-align: right;\n",
       "    }\n",
       "</style>\n",
       "<table border=\"1\" class=\"dataframe\">\n",
       "  <thead>\n",
       "    <tr style=\"text-align: right;\">\n",
       "      <th></th>\n",
       "      <th>Title</th>\n",
       "      <th>Cast and crew</th>\n",
       "      <th>genres</th>\n",
       "      <th>director_name</th>\n",
       "      <th>actor_1_name</th>\n",
       "      <th>actor_2_name</th>\n",
       "      <th>actor_3_name</th>\n",
       "    </tr>\n",
       "  </thead>\n",
       "  <tbody>\n",
       "    <tr>\n",
       "      <th>0</th>\n",
       "      <td>M3GAN</td>\n",
       "      <td>Gerard Johnstone (director); Akela Cooper (scr...</td>\n",
       "      <td>Science Fiction Horror</td>\n",
       "      <td>Gerard Johnstone</td>\n",
       "      <td>Allison Williams</td>\n",
       "      <td>Violet McGraw</td>\n",
       "      <td>Amie Donald</td>\n",
       "    </tr>\n",
       "    <tr>\n",
       "      <th>1</th>\n",
       "      <td>The Old Way</td>\n",
       "      <td>Brett Donowho (director); Carl W. Lucas (scree...</td>\n",
       "      <td>Western</td>\n",
       "      <td>Brett Donowho</td>\n",
       "      <td>Nicolas Cage</td>\n",
       "      <td>Ryan Kiera Armstrong</td>\n",
       "      <td>NaN</td>\n",
       "    </tr>\n",
       "    <tr>\n",
       "      <th>2</th>\n",
       "      <td>The Devil Conspiracy</td>\n",
       "      <td>Nathan Frankowski (director); Ed Alan (screenp...</td>\n",
       "      <td>Horror Fantasy Science Fiction Thriller</td>\n",
       "      <td>Nathan Frankowski</td>\n",
       "      <td>Alice Orr-Ewing</td>\n",
       "      <td>Joe Doyle</td>\n",
       "      <td>Eveline Hall</td>\n",
       "    </tr>\n",
       "    <tr>\n",
       "      <th>3</th>\n",
       "      <td>Plane</td>\n",
       "      <td>Jean-François Richet (director); Charles Cummi...</td>\n",
       "      <td>Action Adventure Thriller</td>\n",
       "      <td>Jean-François Richet</td>\n",
       "      <td>Gerard Butler</td>\n",
       "      <td>Mike Colter</td>\n",
       "      <td>Yoson An</td>\n",
       "    </tr>\n",
       "    <tr>\n",
       "      <th>4</th>\n",
       "      <td>House Party</td>\n",
       "      <td>Calmatic (director); Jamal Olori, Stephen Glov...</td>\n",
       "      <td>Comedy</td>\n",
       "      <td>Calmatic</td>\n",
       "      <td>Tosin Cole</td>\n",
       "      <td>Jacob Latimore</td>\n",
       "      <td>Karen Obilom</td>\n",
       "    </tr>\n",
       "    <tr>\n",
       "      <th>...</th>\n",
       "      <td>...</td>\n",
       "      <td>...</td>\n",
       "      <td>...</td>\n",
       "      <td>...</td>\n",
       "      <td>...</td>\n",
       "      <td>...</td>\n",
       "      <td>...</td>\n",
       "    </tr>\n",
       "    <tr>\n",
       "      <th>322</th>\n",
       "      <td>The Iron Claw</td>\n",
       "      <td>Sean Durkin (director/screenplay); Zac Efron, ...</td>\n",
       "      <td>Drama</td>\n",
       "      <td>Sean Durkin</td>\n",
       "      <td>Zac Efron</td>\n",
       "      <td>Jeremy Allen White</td>\n",
       "      <td>Harris Dickinson</td>\n",
       "    </tr>\n",
       "    <tr>\n",
       "      <th>323</th>\n",
       "      <td>Memory</td>\n",
       "      <td>Michel Franco (director/screenplay); Jessica C...</td>\n",
       "      <td>Action Thriller Crime</td>\n",
       "      <td>Michel Franco</td>\n",
       "      <td>Jessica Chastain</td>\n",
       "      <td>Peter Sarsgaard</td>\n",
       "      <td>Merritt Wever</td>\n",
       "    </tr>\n",
       "    <tr>\n",
       "      <th>324</th>\n",
       "      <td>The Color Purple</td>\n",
       "      <td>Blitz Bazawule (director), Marcus Gardley (scr...</td>\n",
       "      <td>Drama</td>\n",
       "      <td>Blitz Bazawule</td>\n",
       "      <td>Fantasia Barrino</td>\n",
       "      <td>Taraji P. Henson</td>\n",
       "      <td>Danielle Brooks</td>\n",
       "    </tr>\n",
       "    <tr>\n",
       "      <th>325</th>\n",
       "      <td>The Boys in the Boat</td>\n",
       "      <td>George Clooney (director), Mark L. Smith (scre...</td>\n",
       "      <td>Drama History</td>\n",
       "      <td>George Clooney</td>\n",
       "      <td>Callum Turner</td>\n",
       "      <td>Joel Edgerton</td>\n",
       "      <td>Peter Guinness</td>\n",
       "    </tr>\n",
       "    <tr>\n",
       "      <th>326</th>\n",
       "      <td>Ferrari</td>\n",
       "      <td>Michael Mann (director), Troy Kennedy Martin (...</td>\n",
       "      <td>Drama History</td>\n",
       "      <td>Michael Mann</td>\n",
       "      <td>Adam Driver</td>\n",
       "      <td>Penelope Cruz</td>\n",
       "      <td>Shailene Woodley</td>\n",
       "    </tr>\n",
       "  </tbody>\n",
       "</table>\n",
       "<p>327 rows × 7 columns</p>\n",
       "</div>"
      ],
      "text/plain": [
       "                    Title                                      Cast and crew  \\\n",
       "0                   M3GAN  Gerard Johnstone (director); Akela Cooper (scr...   \n",
       "1             The Old Way  Brett Donowho (director); Carl W. Lucas (scree...   \n",
       "2    The Devil Conspiracy  Nathan Frankowski (director); Ed Alan (screenp...   \n",
       "3                   Plane  Jean-François Richet (director); Charles Cummi...   \n",
       "4             House Party  Calmatic (director); Jamal Olori, Stephen Glov...   \n",
       "..                    ...                                                ...   \n",
       "322         The Iron Claw  Sean Durkin (director/screenplay); Zac Efron, ...   \n",
       "323                Memory  Michel Franco (director/screenplay); Jessica C...   \n",
       "324      The Color Purple  Blitz Bazawule (director), Marcus Gardley (scr...   \n",
       "325  The Boys in the Boat  George Clooney (director), Mark L. Smith (scre...   \n",
       "326               Ferrari  Michael Mann (director), Troy Kennedy Martin (...   \n",
       "\n",
       "                                      genres         director_name  \\\n",
       "0                     Science Fiction Horror      Gerard Johnstone   \n",
       "1                                    Western         Brett Donowho   \n",
       "2    Horror Fantasy Science Fiction Thriller     Nathan Frankowski   \n",
       "3                  Action Adventure Thriller  Jean-François Richet   \n",
       "4                                     Comedy              Calmatic   \n",
       "..                                       ...                   ...   \n",
       "322                                    Drama           Sean Durkin   \n",
       "323                    Action Thriller Crime         Michel Franco   \n",
       "324                                    Drama        Blitz Bazawule   \n",
       "325                            Drama History        George Clooney   \n",
       "326                            Drama History          Michael Mann   \n",
       "\n",
       "         actor_1_name          actor_2_name      actor_3_name  \n",
       "0    Allison Williams         Violet McGraw       Amie Donald  \n",
       "1        Nicolas Cage  Ryan Kiera Armstrong               NaN  \n",
       "2     Alice Orr-Ewing             Joe Doyle      Eveline Hall  \n",
       "3       Gerard Butler           Mike Colter          Yoson An  \n",
       "4          Tosin Cole        Jacob Latimore      Karen Obilom  \n",
       "..                ...                   ...               ...  \n",
       "322         Zac Efron    Jeremy Allen White  Harris Dickinson  \n",
       "323  Jessica Chastain       Peter Sarsgaard     Merritt Wever  \n",
       "324  Fantasia Barrino      Taraji P. Henson   Danielle Brooks  \n",
       "325     Callum Turner         Joel Edgerton    Peter Guinness  \n",
       "326       Adam Driver         Penelope Cruz  Shailene Woodley  \n",
       "\n",
       "[327 rows x 7 columns]"
      ]
     },
     "execution_count": 79,
     "metadata": {},
     "output_type": "execute_result"
    }
   ],
   "source": [
    "df_2023"
   ]
  },
  {
   "cell_type": "code",
   "execution_count": 80,
   "metadata": {
    "id": "rBUUnUtfOZWX"
   },
   "outputs": [],
   "source": [
    "df_2023 = df_2023.rename(columns={'Title':'movie_title'})"
   ]
  },
  {
   "cell_type": "code",
   "execution_count": 81,
   "metadata": {
    "id": "_WCWVlAqOZWX"
   },
   "outputs": [],
   "source": [
    "new_df23 = df_2023.loc[:,['director_name','actor_1_name','actor_2_name','actor_3_name','genres','movie_title']]"
   ]
  },
  {
   "cell_type": "code",
   "execution_count": 82,
   "metadata": {
    "colab": {
     "base_uri": "https://localhost:8080/",
     "height": 406
    },
    "id": "i7KBDmu_OZWX",
    "outputId": "6b4de81e-b1ac-4fb0-d349-52ae7c210346"
   },
   "outputs": [
    {
     "data": {
      "text/html": [
       "<div>\n",
       "<style scoped>\n",
       "    .dataframe tbody tr th:only-of-type {\n",
       "        vertical-align: middle;\n",
       "    }\n",
       "\n",
       "    .dataframe tbody tr th {\n",
       "        vertical-align: top;\n",
       "    }\n",
       "\n",
       "    .dataframe thead th {\n",
       "        text-align: right;\n",
       "    }\n",
       "</style>\n",
       "<table border=\"1\" class=\"dataframe\">\n",
       "  <thead>\n",
       "    <tr style=\"text-align: right;\">\n",
       "      <th></th>\n",
       "      <th>director_name</th>\n",
       "      <th>actor_1_name</th>\n",
       "      <th>actor_2_name</th>\n",
       "      <th>actor_3_name</th>\n",
       "      <th>genres</th>\n",
       "      <th>movie_title</th>\n",
       "    </tr>\n",
       "  </thead>\n",
       "  <tbody>\n",
       "    <tr>\n",
       "      <th>0</th>\n",
       "      <td>Gerard Johnstone</td>\n",
       "      <td>Allison Williams</td>\n",
       "      <td>Violet McGraw</td>\n",
       "      <td>Amie Donald</td>\n",
       "      <td>Science Fiction Horror</td>\n",
       "      <td>M3GAN</td>\n",
       "    </tr>\n",
       "    <tr>\n",
       "      <th>1</th>\n",
       "      <td>Brett Donowho</td>\n",
       "      <td>Nicolas Cage</td>\n",
       "      <td>Ryan Kiera Armstrong</td>\n",
       "      <td>NaN</td>\n",
       "      <td>Western</td>\n",
       "      <td>The Old Way</td>\n",
       "    </tr>\n",
       "    <tr>\n",
       "      <th>2</th>\n",
       "      <td>Nathan Frankowski</td>\n",
       "      <td>Alice Orr-Ewing</td>\n",
       "      <td>Joe Doyle</td>\n",
       "      <td>Eveline Hall</td>\n",
       "      <td>Horror Fantasy Science Fiction Thriller</td>\n",
       "      <td>The Devil Conspiracy</td>\n",
       "    </tr>\n",
       "    <tr>\n",
       "      <th>3</th>\n",
       "      <td>Jean-François Richet</td>\n",
       "      <td>Gerard Butler</td>\n",
       "      <td>Mike Colter</td>\n",
       "      <td>Yoson An</td>\n",
       "      <td>Action Adventure Thriller</td>\n",
       "      <td>Plane</td>\n",
       "    </tr>\n",
       "    <tr>\n",
       "      <th>4</th>\n",
       "      <td>Calmatic</td>\n",
       "      <td>Tosin Cole</td>\n",
       "      <td>Jacob Latimore</td>\n",
       "      <td>Karen Obilom</td>\n",
       "      <td>Comedy</td>\n",
       "      <td>House Party</td>\n",
       "    </tr>\n",
       "    <tr>\n",
       "      <th>...</th>\n",
       "      <td>...</td>\n",
       "      <td>...</td>\n",
       "      <td>...</td>\n",
       "      <td>...</td>\n",
       "      <td>...</td>\n",
       "      <td>...</td>\n",
       "    </tr>\n",
       "    <tr>\n",
       "      <th>322</th>\n",
       "      <td>Sean Durkin</td>\n",
       "      <td>Zac Efron</td>\n",
       "      <td>Jeremy Allen White</td>\n",
       "      <td>Harris Dickinson</td>\n",
       "      <td>Drama</td>\n",
       "      <td>The Iron Claw</td>\n",
       "    </tr>\n",
       "    <tr>\n",
       "      <th>323</th>\n",
       "      <td>Michel Franco</td>\n",
       "      <td>Jessica Chastain</td>\n",
       "      <td>Peter Sarsgaard</td>\n",
       "      <td>Merritt Wever</td>\n",
       "      <td>Action Thriller Crime</td>\n",
       "      <td>Memory</td>\n",
       "    </tr>\n",
       "    <tr>\n",
       "      <th>324</th>\n",
       "      <td>Blitz Bazawule</td>\n",
       "      <td>Fantasia Barrino</td>\n",
       "      <td>Taraji P. Henson</td>\n",
       "      <td>Danielle Brooks</td>\n",
       "      <td>Drama</td>\n",
       "      <td>The Color Purple</td>\n",
       "    </tr>\n",
       "    <tr>\n",
       "      <th>325</th>\n",
       "      <td>George Clooney</td>\n",
       "      <td>Callum Turner</td>\n",
       "      <td>Joel Edgerton</td>\n",
       "      <td>Peter Guinness</td>\n",
       "      <td>Drama History</td>\n",
       "      <td>The Boys in the Boat</td>\n",
       "    </tr>\n",
       "    <tr>\n",
       "      <th>326</th>\n",
       "      <td>Michael Mann</td>\n",
       "      <td>Adam Driver</td>\n",
       "      <td>Penelope Cruz</td>\n",
       "      <td>Shailene Woodley</td>\n",
       "      <td>Drama History</td>\n",
       "      <td>Ferrari</td>\n",
       "    </tr>\n",
       "  </tbody>\n",
       "</table>\n",
       "<p>327 rows × 6 columns</p>\n",
       "</div>"
      ],
      "text/plain": [
       "            director_name      actor_1_name          actor_2_name  \\\n",
       "0        Gerard Johnstone  Allison Williams         Violet McGraw   \n",
       "1           Brett Donowho      Nicolas Cage  Ryan Kiera Armstrong   \n",
       "2       Nathan Frankowski   Alice Orr-Ewing             Joe Doyle   \n",
       "3    Jean-François Richet     Gerard Butler           Mike Colter   \n",
       "4                Calmatic        Tosin Cole        Jacob Latimore   \n",
       "..                    ...               ...                   ...   \n",
       "322           Sean Durkin         Zac Efron    Jeremy Allen White   \n",
       "323         Michel Franco  Jessica Chastain       Peter Sarsgaard   \n",
       "324        Blitz Bazawule  Fantasia Barrino      Taraji P. Henson   \n",
       "325        George Clooney     Callum Turner         Joel Edgerton   \n",
       "326          Michael Mann       Adam Driver         Penelope Cruz   \n",
       "\n",
       "         actor_3_name                                   genres  \\\n",
       "0         Amie Donald                   Science Fiction Horror   \n",
       "1                 NaN                                  Western   \n",
       "2        Eveline Hall  Horror Fantasy Science Fiction Thriller   \n",
       "3            Yoson An                Action Adventure Thriller   \n",
       "4        Karen Obilom                                   Comedy   \n",
       "..                ...                                      ...   \n",
       "322  Harris Dickinson                                    Drama   \n",
       "323     Merritt Wever                    Action Thriller Crime   \n",
       "324   Danielle Brooks                                    Drama   \n",
       "325    Peter Guinness                            Drama History   \n",
       "326  Shailene Woodley                            Drama History   \n",
       "\n",
       "              movie_title  \n",
       "0                   M3GAN  \n",
       "1             The Old Way  \n",
       "2    The Devil Conspiracy  \n",
       "3                   Plane  \n",
       "4             House Party  \n",
       "..                    ...  \n",
       "322         The Iron Claw  \n",
       "323                Memory  \n",
       "324      The Color Purple  \n",
       "325  The Boys in the Boat  \n",
       "326               Ferrari  \n",
       "\n",
       "[327 rows x 6 columns]"
      ]
     },
     "execution_count": 82,
     "metadata": {},
     "output_type": "execute_result"
    }
   ],
   "source": [
    "new_df23"
   ]
  },
  {
   "cell_type": "code",
   "execution_count": 83,
   "metadata": {
    "id": "0s7XMhqzOZWY"
   },
   "outputs": [],
   "source": [
    "new_df23['comb'] = new_df23['actor_1_name'] + ' ' + new_df23['actor_2_name'] + ' '+ new_df23['actor_3_name'] + ' '+ new_df23['director_name'] +' ' + new_df23['genres']"
   ]
  },
  {
   "cell_type": "code",
   "execution_count": 84,
   "metadata": {
    "colab": {
     "base_uri": "https://localhost:8080/"
    },
    "id": "ta_KcPQJOZWY",
    "outputId": "ac6aa7b7-c156-49b2-9e95-3a76f971f5b1"
   },
   "outputs": [
    {
     "data": {
      "text/plain": [
       "director_name     0\n",
       "actor_1_name      0\n",
       "actor_2_name      3\n",
       "actor_3_name     21\n",
       "genres            0\n",
       "movie_title       0\n",
       "comb             21\n",
       "dtype: int64"
      ]
     },
     "execution_count": 84,
     "metadata": {},
     "output_type": "execute_result"
    }
   ],
   "source": [
    "new_df23.isna().sum()"
   ]
  },
  {
   "cell_type": "code",
   "execution_count": 85,
   "metadata": {
    "id": "DkKroG5GOZWY"
   },
   "outputs": [],
   "source": [
    "new_df23 = new_df23.dropna(how='any')"
   ]
  },
  {
   "cell_type": "code",
   "execution_count": 86,
   "metadata": {
    "colab": {
     "base_uri": "https://localhost:8080/"
    },
    "id": "YOIv1wvhOZWY",
    "outputId": "c3ad579e-16e2-4d8c-d4a0-71891d71b986"
   },
   "outputs": [
    {
     "data": {
      "text/plain": [
       "director_name    0\n",
       "actor_1_name     0\n",
       "actor_2_name     0\n",
       "actor_3_name     0\n",
       "genres           0\n",
       "movie_title      0\n",
       "comb             0\n",
       "dtype: int64"
      ]
     },
     "execution_count": 86,
     "metadata": {},
     "output_type": "execute_result"
    }
   ],
   "source": [
    "new_df23.isna().sum()"
   ]
  },
  {
   "cell_type": "code",
   "execution_count": 87,
   "metadata": {
    "colab": {
     "base_uri": "https://localhost:8080/"
    },
    "id": "IB3YmNWROZWY",
    "outputId": "8abccee1-4b9e-436b-de18-eb97298d73a9"
   },
   "outputs": [
    {
     "name": "stderr",
     "output_type": "stream",
     "text": [
      "C:\\Users\\Horizon\\AppData\\Local\\Temp\\ipykernel_7572\\3055323516.py:1: SettingWithCopyWarning: \n",
      "A value is trying to be set on a copy of a slice from a DataFrame.\n",
      "Try using .loc[row_indexer,col_indexer] = value instead\n",
      "\n",
      "See the caveats in the documentation: https://pandas.pydata.org/pandas-docs/stable/user_guide/indexing.html#returning-a-view-versus-a-copy\n",
      "  new_df23['movie_title'] = new_df23['movie_title'].str.lower()\n"
     ]
    }
   ],
   "source": [
    "new_df23['movie_title'] = new_df23['movie_title'].str.lower()"
   ]
  },
  {
   "cell_type": "code",
   "execution_count": 88,
   "metadata": {
    "colab": {
     "base_uri": "https://localhost:8080/",
     "height": 406
    },
    "id": "3e3NnY70OZWZ",
    "outputId": "cf4351f9-93f7-40bc-cc24-ab9e45bd8358"
   },
   "outputs": [
    {
     "data": {
      "text/html": [
       "<div>\n",
       "<style scoped>\n",
       "    .dataframe tbody tr th:only-of-type {\n",
       "        vertical-align: middle;\n",
       "    }\n",
       "\n",
       "    .dataframe tbody tr th {\n",
       "        vertical-align: top;\n",
       "    }\n",
       "\n",
       "    .dataframe thead th {\n",
       "        text-align: right;\n",
       "    }\n",
       "</style>\n",
       "<table border=\"1\" class=\"dataframe\">\n",
       "  <thead>\n",
       "    <tr style=\"text-align: right;\">\n",
       "      <th></th>\n",
       "      <th>director_name</th>\n",
       "      <th>actor_1_name</th>\n",
       "      <th>actor_2_name</th>\n",
       "      <th>actor_3_name</th>\n",
       "      <th>genres</th>\n",
       "      <th>movie_title</th>\n",
       "      <th>comb</th>\n",
       "    </tr>\n",
       "  </thead>\n",
       "  <tbody>\n",
       "    <tr>\n",
       "      <th>0</th>\n",
       "      <td>Gerard Johnstone</td>\n",
       "      <td>Allison Williams</td>\n",
       "      <td>Violet McGraw</td>\n",
       "      <td>Amie Donald</td>\n",
       "      <td>Science Fiction Horror</td>\n",
       "      <td>m3gan</td>\n",
       "      <td>Allison Williams Violet McGraw Amie Donald Ger...</td>\n",
       "    </tr>\n",
       "    <tr>\n",
       "      <th>2</th>\n",
       "      <td>Nathan Frankowski</td>\n",
       "      <td>Alice Orr-Ewing</td>\n",
       "      <td>Joe Doyle</td>\n",
       "      <td>Eveline Hall</td>\n",
       "      <td>Horror Fantasy Science Fiction Thriller</td>\n",
       "      <td>the devil conspiracy</td>\n",
       "      <td>Alice Orr-Ewing Joe Doyle Eveline Hall Nathan ...</td>\n",
       "    </tr>\n",
       "    <tr>\n",
       "      <th>3</th>\n",
       "      <td>Jean-François Richet</td>\n",
       "      <td>Gerard Butler</td>\n",
       "      <td>Mike Colter</td>\n",
       "      <td>Yoson An</td>\n",
       "      <td>Action Adventure Thriller</td>\n",
       "      <td>plane</td>\n",
       "      <td>Gerard Butler Mike Colter Yoson An Jean-Franço...</td>\n",
       "    </tr>\n",
       "    <tr>\n",
       "      <th>4</th>\n",
       "      <td>Calmatic</td>\n",
       "      <td>Tosin Cole</td>\n",
       "      <td>Jacob Latimore</td>\n",
       "      <td>Karen Obilom</td>\n",
       "      <td>Comedy</td>\n",
       "      <td>house party</td>\n",
       "      <td>Tosin Cole Jacob Latimore Karen Obilom Calmati...</td>\n",
       "    </tr>\n",
       "    <tr>\n",
       "      <th>5</th>\n",
       "      <td>John Hyams</td>\n",
       "      <td>Gideon Adlon</td>\n",
       "      <td>Bethlehem Million</td>\n",
       "      <td>Marc Menchaca</td>\n",
       "      <td>Horror Thriller Mystery</td>\n",
       "      <td>sick</td>\n",
       "      <td>Gideon Adlon Bethlehem Million Marc Menchaca J...</td>\n",
       "    </tr>\n",
       "    <tr>\n",
       "      <th>...</th>\n",
       "      <td>...</td>\n",
       "      <td>...</td>\n",
       "      <td>...</td>\n",
       "      <td>...</td>\n",
       "      <td>...</td>\n",
       "      <td>...</td>\n",
       "      <td>...</td>\n",
       "    </tr>\n",
       "    <tr>\n",
       "      <th>322</th>\n",
       "      <td>Sean Durkin</td>\n",
       "      <td>Zac Efron</td>\n",
       "      <td>Jeremy Allen White</td>\n",
       "      <td>Harris Dickinson</td>\n",
       "      <td>Drama</td>\n",
       "      <td>the iron claw</td>\n",
       "      <td>Zac Efron Jeremy Allen White Harris Dickinson ...</td>\n",
       "    </tr>\n",
       "    <tr>\n",
       "      <th>323</th>\n",
       "      <td>Michel Franco</td>\n",
       "      <td>Jessica Chastain</td>\n",
       "      <td>Peter Sarsgaard</td>\n",
       "      <td>Merritt Wever</td>\n",
       "      <td>Action Thriller Crime</td>\n",
       "      <td>memory</td>\n",
       "      <td>Jessica Chastain Peter Sarsgaard Merritt Wever...</td>\n",
       "    </tr>\n",
       "    <tr>\n",
       "      <th>324</th>\n",
       "      <td>Blitz Bazawule</td>\n",
       "      <td>Fantasia Barrino</td>\n",
       "      <td>Taraji P. Henson</td>\n",
       "      <td>Danielle Brooks</td>\n",
       "      <td>Drama</td>\n",
       "      <td>the color purple</td>\n",
       "      <td>Fantasia Barrino Taraji P. Henson Danielle Bro...</td>\n",
       "    </tr>\n",
       "    <tr>\n",
       "      <th>325</th>\n",
       "      <td>George Clooney</td>\n",
       "      <td>Callum Turner</td>\n",
       "      <td>Joel Edgerton</td>\n",
       "      <td>Peter Guinness</td>\n",
       "      <td>Drama History</td>\n",
       "      <td>the boys in the boat</td>\n",
       "      <td>Callum Turner Joel Edgerton Peter Guinness Geo...</td>\n",
       "    </tr>\n",
       "    <tr>\n",
       "      <th>326</th>\n",
       "      <td>Michael Mann</td>\n",
       "      <td>Adam Driver</td>\n",
       "      <td>Penelope Cruz</td>\n",
       "      <td>Shailene Woodley</td>\n",
       "      <td>Drama History</td>\n",
       "      <td>ferrari</td>\n",
       "      <td>Adam Driver Penelope Cruz Shailene Woodley Mic...</td>\n",
       "    </tr>\n",
       "  </tbody>\n",
       "</table>\n",
       "<p>306 rows × 7 columns</p>\n",
       "</div>"
      ],
      "text/plain": [
       "            director_name      actor_1_name        actor_2_name  \\\n",
       "0        Gerard Johnstone  Allison Williams       Violet McGraw   \n",
       "2       Nathan Frankowski   Alice Orr-Ewing           Joe Doyle   \n",
       "3    Jean-François Richet     Gerard Butler         Mike Colter   \n",
       "4                Calmatic        Tosin Cole      Jacob Latimore   \n",
       "5              John Hyams      Gideon Adlon   Bethlehem Million   \n",
       "..                    ...               ...                 ...   \n",
       "322           Sean Durkin         Zac Efron  Jeremy Allen White   \n",
       "323         Michel Franco  Jessica Chastain     Peter Sarsgaard   \n",
       "324        Blitz Bazawule  Fantasia Barrino    Taraji P. Henson   \n",
       "325        George Clooney     Callum Turner       Joel Edgerton   \n",
       "326          Michael Mann       Adam Driver       Penelope Cruz   \n",
       "\n",
       "         actor_3_name                                   genres  \\\n",
       "0         Amie Donald                   Science Fiction Horror   \n",
       "2        Eveline Hall  Horror Fantasy Science Fiction Thriller   \n",
       "3            Yoson An                Action Adventure Thriller   \n",
       "4        Karen Obilom                                   Comedy   \n",
       "5       Marc Menchaca                  Horror Thriller Mystery   \n",
       "..                ...                                      ...   \n",
       "322  Harris Dickinson                                    Drama   \n",
       "323     Merritt Wever                    Action Thriller Crime   \n",
       "324   Danielle Brooks                                    Drama   \n",
       "325    Peter Guinness                            Drama History   \n",
       "326  Shailene Woodley                            Drama History   \n",
       "\n",
       "              movie_title                                               comb  \n",
       "0                   m3gan  Allison Williams Violet McGraw Amie Donald Ger...  \n",
       "2    the devil conspiracy  Alice Orr-Ewing Joe Doyle Eveline Hall Nathan ...  \n",
       "3                   plane  Gerard Butler Mike Colter Yoson An Jean-Franço...  \n",
       "4             house party  Tosin Cole Jacob Latimore Karen Obilom Calmati...  \n",
       "5                    sick  Gideon Adlon Bethlehem Million Marc Menchaca J...  \n",
       "..                    ...                                                ...  \n",
       "322         the iron claw  Zac Efron Jeremy Allen White Harris Dickinson ...  \n",
       "323                memory  Jessica Chastain Peter Sarsgaard Merritt Wever...  \n",
       "324      the color purple  Fantasia Barrino Taraji P. Henson Danielle Bro...  \n",
       "325  the boys in the boat  Callum Turner Joel Edgerton Peter Guinness Geo...  \n",
       "326               ferrari  Adam Driver Penelope Cruz Shailene Woodley Mic...  \n",
       "\n",
       "[306 rows x 7 columns]"
      ]
     },
     "execution_count": 88,
     "metadata": {},
     "output_type": "execute_result"
    }
   ],
   "source": [
    "new_df23"
   ]
  },
  {
   "cell_type": "code",
   "execution_count": 1,
   "metadata": {
    "id": "BCf9fH_4OZWZ"
   },
   "outputs": [
    {
     "ename": "NameError",
     "evalue": "name 'pd' is not defined",
     "output_type": "error",
     "traceback": [
      "\u001b[1;31m---------------------------------------------------------------------------\u001b[0m",
      "\u001b[1;31mNameError\u001b[0m                                 Traceback (most recent call last)",
      "Cell \u001b[1;32mIn[1], line 1\u001b[0m\n\u001b[1;32m----> 1\u001b[0m old_df \u001b[38;5;241m=\u001b[39m pd\u001b[38;5;241m.\u001b[39mread_csv(\u001b[38;5;124m'\u001b[39m\u001b[38;5;124mfinal_data.csv\u001b[39m\u001b[38;5;124m'\u001b[39m)\n",
      "\u001b[1;31mNameError\u001b[0m: name 'pd' is not defined"
     ]
    }
   ],
   "source": [
    "old_df = pd.read_csv('final_data.csv')"
   ]
  },
  {
   "cell_type": "code",
   "execution_count": null,
   "metadata": {
    "id": "ce2e426yOZWZ",
    "outputId": "7d2c0bd7-6907-4398-c385-829b04ad921e"
   },
   "outputs": [
    {
     "data": {
      "text/html": [
       "<div>\n",
       "<style scoped>\n",
       "    .dataframe tbody tr th:only-of-type {\n",
       "        vertical-align: middle;\n",
       "    }\n",
       "\n",
       "    .dataframe tbody tr th {\n",
       "        vertical-align: top;\n",
       "    }\n",
       "\n",
       "    .dataframe thead th {\n",
       "        text-align: right;\n",
       "    }\n",
       "</style>\n",
       "<table border=\"1\" class=\"dataframe\">\n",
       "  <thead>\n",
       "    <tr style=\"text-align: right;\">\n",
       "      <th></th>\n",
       "      <th>director_name</th>\n",
       "      <th>actor_1_name</th>\n",
       "      <th>actor_2_name</th>\n",
       "      <th>actor_3_name</th>\n",
       "      <th>genres</th>\n",
       "      <th>movie_title</th>\n",
       "      <th>comb</th>\n",
       "    </tr>\n",
       "  </thead>\n",
       "  <tbody>\n",
       "    <tr>\n",
       "      <th>0</th>\n",
       "      <td>James Cameron</td>\n",
       "      <td>CCH Pounder</td>\n",
       "      <td>Joel David Moore</td>\n",
       "      <td>Wes Studi</td>\n",
       "      <td>Action Adventure Fantasy Sci-Fi</td>\n",
       "      <td>avatar</td>\n",
       "      <td>CCH Pounder Joel David Moore Wes Studi James C...</td>\n",
       "    </tr>\n",
       "    <tr>\n",
       "      <th>1</th>\n",
       "      <td>Gore Verbinski</td>\n",
       "      <td>Johnny Depp</td>\n",
       "      <td>Orlando Bloom</td>\n",
       "      <td>Jack Davenport</td>\n",
       "      <td>Action Adventure Fantasy</td>\n",
       "      <td>pirates of the caribbean: at world's end</td>\n",
       "      <td>Johnny Depp Orlando Bloom Jack Davenport Gore ...</td>\n",
       "    </tr>\n",
       "    <tr>\n",
       "      <th>2</th>\n",
       "      <td>Sam Mendes</td>\n",
       "      <td>Christoph Waltz</td>\n",
       "      <td>Rory Kinnear</td>\n",
       "      <td>Stephanie Sigman</td>\n",
       "      <td>Action Adventure Thriller</td>\n",
       "      <td>spectre</td>\n",
       "      <td>Christoph Waltz Rory Kinnear Stephanie Sigman ...</td>\n",
       "    </tr>\n",
       "    <tr>\n",
       "      <th>3</th>\n",
       "      <td>Christopher Nolan</td>\n",
       "      <td>Tom Hardy</td>\n",
       "      <td>Christian Bale</td>\n",
       "      <td>Joseph Gordon-Levitt</td>\n",
       "      <td>Action Thriller</td>\n",
       "      <td>the dark knight rises</td>\n",
       "      <td>Tom Hardy Christian Bale Joseph Gordon-Levitt ...</td>\n",
       "    </tr>\n",
       "    <tr>\n",
       "      <th>4</th>\n",
       "      <td>Doug Walker</td>\n",
       "      <td>Doug Walker</td>\n",
       "      <td>Rob Walker</td>\n",
       "      <td>unknown</td>\n",
       "      <td>Documentary</td>\n",
       "      <td>star wars: episode vii - the force awakens    ...</td>\n",
       "      <td>Doug Walker Rob Walker unknown Doug Walker Doc...</td>\n",
       "    </tr>\n",
       "    <tr>\n",
       "      <th>...</th>\n",
       "      <td>...</td>\n",
       "      <td>...</td>\n",
       "      <td>...</td>\n",
       "      <td>...</td>\n",
       "      <td>...</td>\n",
       "      <td>...</td>\n",
       "      <td>...</td>\n",
       "    </tr>\n",
       "    <tr>\n",
       "      <th>5864</th>\n",
       "      <td>Greta Gerwig</td>\n",
       "      <td>Saoirse Ronan</td>\n",
       "      <td>Emma Watson</td>\n",
       "      <td>Florence Pugh</td>\n",
       "      <td>Drama Romance</td>\n",
       "      <td>little women</td>\n",
       "      <td>Saoirse Ronan Emma Watson Florence Pugh Greta ...</td>\n",
       "    </tr>\n",
       "    <tr>\n",
       "      <th>5865</th>\n",
       "      <td>Sam Mendes</td>\n",
       "      <td>George MacKay</td>\n",
       "      <td>Dean-Charles Chapman</td>\n",
       "      <td>Mark Strong</td>\n",
       "      <td>War Drama Action History</td>\n",
       "      <td>1917</td>\n",
       "      <td>George MacKay Dean-Charles Chapman Mark Strong...</td>\n",
       "    </tr>\n",
       "    <tr>\n",
       "      <th>5866</th>\n",
       "      <td>Destin Daniel Cretton</td>\n",
       "      <td>Michael B. Jordan</td>\n",
       "      <td>Jamie Foxx</td>\n",
       "      <td>Brie Larson</td>\n",
       "      <td>Drama Crime</td>\n",
       "      <td>just mercy</td>\n",
       "      <td>Michael B. Jordan Jamie Foxx Brie Larson Desti...</td>\n",
       "    </tr>\n",
       "    <tr>\n",
       "      <th>5867</th>\n",
       "      <td>Chinonye Chukwu</td>\n",
       "      <td>Alfre Woodard</td>\n",
       "      <td>Wendell Pierce</td>\n",
       "      <td>Aldis Hodge</td>\n",
       "      <td>Drama</td>\n",
       "      <td>clemency</td>\n",
       "      <td>Alfre Woodard Wendell Pierce Aldis Hodge Chino...</td>\n",
       "    </tr>\n",
       "    <tr>\n",
       "      <th>5868</th>\n",
       "      <td>Waymon Boone</td>\n",
       "      <td>Mena Suvari</td>\n",
       "      <td>Kevin Pollak</td>\n",
       "      <td>unknown</td>\n",
       "      <td>Horror Thriller</td>\n",
       "      <td>apparition</td>\n",
       "      <td>Mena Suvari Kevin Pollak unknown Waymon Boone ...</td>\n",
       "    </tr>\n",
       "  </tbody>\n",
       "</table>\n",
       "<p>5869 rows × 7 columns</p>\n",
       "</div>"
      ],
      "text/plain": [
       "              director_name       actor_1_name          actor_2_name  \\\n",
       "0             James Cameron        CCH Pounder      Joel David Moore   \n",
       "1            Gore Verbinski        Johnny Depp         Orlando Bloom   \n",
       "2                Sam Mendes    Christoph Waltz          Rory Kinnear   \n",
       "3         Christopher Nolan          Tom Hardy        Christian Bale   \n",
       "4               Doug Walker        Doug Walker            Rob Walker   \n",
       "...                     ...                ...                   ...   \n",
       "5864           Greta Gerwig      Saoirse Ronan           Emma Watson   \n",
       "5865             Sam Mendes      George MacKay  Dean-Charles Chapman   \n",
       "5866  Destin Daniel Cretton  Michael B. Jordan            Jamie Foxx   \n",
       "5867        Chinonye Chukwu      Alfre Woodard        Wendell Pierce   \n",
       "5868           Waymon Boone        Mena Suvari          Kevin Pollak   \n",
       "\n",
       "              actor_3_name                           genres  \\\n",
       "0                Wes Studi  Action Adventure Fantasy Sci-Fi   \n",
       "1           Jack Davenport         Action Adventure Fantasy   \n",
       "2         Stephanie Sigman        Action Adventure Thriller   \n",
       "3     Joseph Gordon-Levitt                  Action Thriller   \n",
       "4                  unknown                      Documentary   \n",
       "...                    ...                              ...   \n",
       "5864         Florence Pugh                    Drama Romance   \n",
       "5865           Mark Strong         War Drama Action History   \n",
       "5866           Brie Larson                      Drama Crime   \n",
       "5867           Aldis Hodge                            Drama   \n",
       "5868               unknown                  Horror Thriller   \n",
       "\n",
       "                                            movie_title  \\\n",
       "0                                                avatar   \n",
       "1              pirates of the caribbean: at world's end   \n",
       "2                                               spectre   \n",
       "3                                 the dark knight rises   \n",
       "4     star wars: episode vii - the force awakens    ...   \n",
       "...                                                 ...   \n",
       "5864                                       little women   \n",
       "5865                                               1917   \n",
       "5866                                         just mercy   \n",
       "5867                                           clemency   \n",
       "5868                                         apparition   \n",
       "\n",
       "                                                   comb  \n",
       "0     CCH Pounder Joel David Moore Wes Studi James C...  \n",
       "1     Johnny Depp Orlando Bloom Jack Davenport Gore ...  \n",
       "2     Christoph Waltz Rory Kinnear Stephanie Sigman ...  \n",
       "3     Tom Hardy Christian Bale Joseph Gordon-Levitt ...  \n",
       "4     Doug Walker Rob Walker unknown Doug Walker Doc...  \n",
       "...                                                 ...  \n",
       "5864  Saoirse Ronan Emma Watson Florence Pugh Greta ...  \n",
       "5865  George MacKay Dean-Charles Chapman Mark Strong...  \n",
       "5866  Michael B. Jordan Jamie Foxx Brie Larson Desti...  \n",
       "5867  Alfre Woodard Wendell Pierce Aldis Hodge Chino...  \n",
       "5868  Mena Suvari Kevin Pollak unknown Waymon Boone ...  \n",
       "\n",
       "[5869 rows x 7 columns]"
      ]
     },
     "execution_count": 39,
     "metadata": {
      "tags": []
     },
     "output_type": "execute_result"
    }
   ],
   "source": [
    "old_df"
   ]
  },
  {
   "cell_type": "code",
   "execution_count": null,
   "metadata": {
    "id": "P14B9e3GOZWZ"
   },
   "outputs": [],
   "source": [
    "final_df = old_df.append(new_df20,ignore_index=True)"
   ]
  },
  {
   "cell_type": "code",
   "execution_count": null,
   "metadata": {
    "id": "0RAVcY-jOZWZ",
    "outputId": "0e87fe5f-5a7a-4792-edf3-a5027e667af0"
   },
   "outputs": [
    {
     "data": {
      "text/html": [
       "<div>\n",
       "<style scoped>\n",
       "    .dataframe tbody tr th:only-of-type {\n",
       "        vertical-align: middle;\n",
       "    }\n",
       "\n",
       "    .dataframe tbody tr th {\n",
       "        vertical-align: top;\n",
       "    }\n",
       "\n",
       "    .dataframe thead th {\n",
       "        text-align: right;\n",
       "    }\n",
       "</style>\n",
       "<table border=\"1\" class=\"dataframe\">\n",
       "  <thead>\n",
       "    <tr style=\"text-align: right;\">\n",
       "      <th></th>\n",
       "      <th>director_name</th>\n",
       "      <th>actor_1_name</th>\n",
       "      <th>actor_2_name</th>\n",
       "      <th>actor_3_name</th>\n",
       "      <th>genres</th>\n",
       "      <th>movie_title</th>\n",
       "      <th>comb</th>\n",
       "    </tr>\n",
       "  </thead>\n",
       "  <tbody>\n",
       "    <tr>\n",
       "      <th>0</th>\n",
       "      <td>James Cameron</td>\n",
       "      <td>CCH Pounder</td>\n",
       "      <td>Joel David Moore</td>\n",
       "      <td>Wes Studi</td>\n",
       "      <td>Action Adventure Fantasy Sci-Fi</td>\n",
       "      <td>avatar</td>\n",
       "      <td>CCH Pounder Joel David Moore Wes Studi James C...</td>\n",
       "    </tr>\n",
       "    <tr>\n",
       "      <th>1</th>\n",
       "      <td>Gore Verbinski</td>\n",
       "      <td>Johnny Depp</td>\n",
       "      <td>Orlando Bloom</td>\n",
       "      <td>Jack Davenport</td>\n",
       "      <td>Action Adventure Fantasy</td>\n",
       "      <td>pirates of the caribbean: at world's end</td>\n",
       "      <td>Johnny Depp Orlando Bloom Jack Davenport Gore ...</td>\n",
       "    </tr>\n",
       "    <tr>\n",
       "      <th>2</th>\n",
       "      <td>Sam Mendes</td>\n",
       "      <td>Christoph Waltz</td>\n",
       "      <td>Rory Kinnear</td>\n",
       "      <td>Stephanie Sigman</td>\n",
       "      <td>Action Adventure Thriller</td>\n",
       "      <td>spectre</td>\n",
       "      <td>Christoph Waltz Rory Kinnear Stephanie Sigman ...</td>\n",
       "    </tr>\n",
       "    <tr>\n",
       "      <th>3</th>\n",
       "      <td>Christopher Nolan</td>\n",
       "      <td>Tom Hardy</td>\n",
       "      <td>Christian Bale</td>\n",
       "      <td>Joseph Gordon-Levitt</td>\n",
       "      <td>Action Thriller</td>\n",
       "      <td>the dark knight rises</td>\n",
       "      <td>Tom Hardy Christian Bale Joseph Gordon-Levitt ...</td>\n",
       "    </tr>\n",
       "    <tr>\n",
       "      <th>4</th>\n",
       "      <td>Doug Walker</td>\n",
       "      <td>Doug Walker</td>\n",
       "      <td>Rob Walker</td>\n",
       "      <td>unknown</td>\n",
       "      <td>Documentary</td>\n",
       "      <td>star wars: episode vii - the force awakens    ...</td>\n",
       "      <td>Doug Walker Rob Walker unknown Doug Walker Doc...</td>\n",
       "    </tr>\n",
       "    <tr>\n",
       "      <th>...</th>\n",
       "      <td>...</td>\n",
       "      <td>...</td>\n",
       "      <td>...</td>\n",
       "      <td>...</td>\n",
       "      <td>...</td>\n",
       "      <td>...</td>\n",
       "      <td>...</td>\n",
       "    </tr>\n",
       "    <tr>\n",
       "      <th>6005</th>\n",
       "      <td>Joseph Kosinski</td>\n",
       "      <td>Tom Cruise</td>\n",
       "      <td>Miles Teller</td>\n",
       "      <td>Jennifer Connelly</td>\n",
       "      <td>Action Drama</td>\n",
       "      <td>top gun: maverick</td>\n",
       "      <td>Tom Cruise Miles Teller Jennifer Connelly Jose...</td>\n",
       "    </tr>\n",
       "    <tr>\n",
       "      <th>6006</th>\n",
       "      <td>Joel Crawford</td>\n",
       "      <td>Nicolas Cage</td>\n",
       "      <td>Emma Stone</td>\n",
       "      <td>Ryan Reynolds</td>\n",
       "      <td>Animation Adventure Family</td>\n",
       "      <td>the croods 2</td>\n",
       "      <td>Nicolas Cage Emma Stone Ryan Reynolds Joel Cra...</td>\n",
       "    </tr>\n",
       "    <tr>\n",
       "      <th>6007</th>\n",
       "      <td>Liesl Tommy</td>\n",
       "      <td>Jennifer Hudson</td>\n",
       "      <td>Forest Whitaker</td>\n",
       "      <td>Marlon Wayans</td>\n",
       "      <td>Music Drama</td>\n",
       "      <td>respect</td>\n",
       "      <td>Jennifer Hudson Forest Whitaker Marlon Wayans ...</td>\n",
       "    </tr>\n",
       "    <tr>\n",
       "      <th>6008</th>\n",
       "      <td>Ridley Scott</td>\n",
       "      <td>Matt Damon</td>\n",
       "      <td>Adam Driver</td>\n",
       "      <td>Jodie Comer</td>\n",
       "      <td>Drama</td>\n",
       "      <td>the last duel</td>\n",
       "      <td>Matt Damon Adam Driver Jodie Comer Ridley Scot...</td>\n",
       "    </tr>\n",
       "    <tr>\n",
       "      <th>6009</th>\n",
       "      <td>Paul Greengrass</td>\n",
       "      <td>Tom Hanks</td>\n",
       "      <td>Helena Zengel</td>\n",
       "      <td>Neil Sandilands</td>\n",
       "      <td>Drama Western</td>\n",
       "      <td>news of the world</td>\n",
       "      <td>Tom Hanks Helena Zengel Neil Sandilands Paul G...</td>\n",
       "    </tr>\n",
       "  </tbody>\n",
       "</table>\n",
       "<p>6010 rows × 7 columns</p>\n",
       "</div>"
      ],
      "text/plain": [
       "          director_name     actor_1_name      actor_2_name  \\\n",
       "0         James Cameron      CCH Pounder  Joel David Moore   \n",
       "1        Gore Verbinski      Johnny Depp     Orlando Bloom   \n",
       "2            Sam Mendes  Christoph Waltz      Rory Kinnear   \n",
       "3     Christopher Nolan        Tom Hardy    Christian Bale   \n",
       "4           Doug Walker      Doug Walker        Rob Walker   \n",
       "...                 ...              ...               ...   \n",
       "6005    Joseph Kosinski       Tom Cruise      Miles Teller   \n",
       "6006      Joel Crawford     Nicolas Cage        Emma Stone   \n",
       "6007        Liesl Tommy  Jennifer Hudson   Forest Whitaker   \n",
       "6008       Ridley Scott       Matt Damon       Adam Driver   \n",
       "6009    Paul Greengrass        Tom Hanks     Helena Zengel   \n",
       "\n",
       "              actor_3_name                           genres  \\\n",
       "0                Wes Studi  Action Adventure Fantasy Sci-Fi   \n",
       "1           Jack Davenport         Action Adventure Fantasy   \n",
       "2         Stephanie Sigman        Action Adventure Thriller   \n",
       "3     Joseph Gordon-Levitt                  Action Thriller   \n",
       "4                  unknown                      Documentary   \n",
       "...                    ...                              ...   \n",
       "6005     Jennifer Connelly                     Action Drama   \n",
       "6006         Ryan Reynolds       Animation Adventure Family   \n",
       "6007         Marlon Wayans                      Music Drama   \n",
       "6008           Jodie Comer                            Drama   \n",
       "6009       Neil Sandilands                    Drama Western   \n",
       "\n",
       "                                            movie_title  \\\n",
       "0                                                avatar   \n",
       "1              pirates of the caribbean: at world's end   \n",
       "2                                               spectre   \n",
       "3                                 the dark knight rises   \n",
       "4     star wars: episode vii - the force awakens    ...   \n",
       "...                                                 ...   \n",
       "6005                                  top gun: maverick   \n",
       "6006                                       the croods 2   \n",
       "6007                                            respect   \n",
       "6008                                      the last duel   \n",
       "6009                                  news of the world   \n",
       "\n",
       "                                                   comb  \n",
       "0     CCH Pounder Joel David Moore Wes Studi James C...  \n",
       "1     Johnny Depp Orlando Bloom Jack Davenport Gore ...  \n",
       "2     Christoph Waltz Rory Kinnear Stephanie Sigman ...  \n",
       "3     Tom Hardy Christian Bale Joseph Gordon-Levitt ...  \n",
       "4     Doug Walker Rob Walker unknown Doug Walker Doc...  \n",
       "...                                                 ...  \n",
       "6005  Tom Cruise Miles Teller Jennifer Connelly Jose...  \n",
       "6006  Nicolas Cage Emma Stone Ryan Reynolds Joel Cra...  \n",
       "6007  Jennifer Hudson Forest Whitaker Marlon Wayans ...  \n",
       "6008  Matt Damon Adam Driver Jodie Comer Ridley Scot...  \n",
       "6009  Tom Hanks Helena Zengel Neil Sandilands Paul G...  \n",
       "\n",
       "[6010 rows x 7 columns]"
      ]
     },
     "execution_count": 41,
     "metadata": {
      "tags": []
     },
     "output_type": "execute_result"
    }
   ],
   "source": [
    "final_df"
   ]
  },
  {
   "cell_type": "code",
   "execution_count": null,
   "metadata": {
    "id": "gCTWwaOiOZWZ"
   },
   "outputs": [],
   "source": [
    "final_df.to_csv('main_data.csv',index=False)"
   ]
  }
 ],
 "metadata": {
  "colab": {
   "collapsed_sections": [],
   "name": "preprocessing 4.ipynb",
   "provenance": []
  },
  "kernelspec": {
   "display_name": "Python 3 (ipykernel)",
   "language": "python",
   "name": "python3"
  },
  "language_info": {
   "codemirror_mode": {
    "name": "ipython",
    "version": 3
   },
   "file_extension": ".py",
   "mimetype": "text/x-python",
   "name": "python",
   "nbconvert_exporter": "python",
   "pygments_lexer": "ipython3",
   "version": "3.11.5"
  }
 },
 "nbformat": 4,
 "nbformat_minor": 1
}
